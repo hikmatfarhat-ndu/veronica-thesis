{
  "nbformat": 4,
  "nbformat_minor": 0,
  "metadata": {
    "colab": {
      "name": "malware.ipynb",
      "provenance": [],
      "include_colab_link": true
    },
    "kernelspec": {
      "name": "python391jvsc74a57bd063fd5069d213b44bf678585dea6b12cceca9941eaf7f819626cde1f2670de90d",
      "display_name": "Python 3.9.1 64-bit"
    },
    "metadata": {
      "interpreter": {
        "hash": "63fd5069d213b44bf678585dea6b12cceca9941eaf7f819626cde1f2670de90d"
      }
    },
    "language_info": {
      "name": "python",
      "version": "3.9.1"
    }
  },
  "cells": [
    {
      "cell_type": "markdown",
      "metadata": {
        "id": "view-in-github",
        "colab_type": "text"
      },
      "source": [
        "<a href=\"https://colab.research.google.com/github/hikmatfarhat-ndu/veronica-thesis/blob/master/malware.ipynb\" target=\"_parent\"><img src=\"https://colab.research.google.com/assets/colab-badge.svg\" alt=\"Open In Colab\"/></a>"
      ]
    },
    {
      "cell_type": "markdown",
      "metadata": {
        "id": "JVqy8wi_uqbW"
      },
      "source": [
        "# Convolution Network\n",
        "\n",
        "Convolution Neural Networks (CNN) have been very successful especially when modeling images. In this notebook we introduce CNNs and use Keras to learn the CIFAR10 data set"
      ]
    },
    {
      "cell_type": "code",
      "metadata": {
        "collapsed": true,
        "id": "atqyNtEcPNpw",
        "colab": {
          "base_uri": "https://localhost:8080/"
        },
        "outputId": "d5fa532f-8a8a-4b89-f5af-93bddc698220"
      },
      "source": [
        "%%bash\n",
        "fileid=\"1--HR99qhGfN-5G5vutGbWsQ6NvB1a8HF&export=download\" \n",
        "filename=\"byte_names.1.7z\"\n",
        "curl -L -c cookies.txt 'https://docs.google.com/uc?export=download&id='$fileid | sed -rn 's/.*confirm=([0-9A-Za-z_]+).*/\\1/p' > confirm.txt\n",
        "\n",
        "curl -L -b cookies.txt -o $filename 'https://docs.google.com/uc?export=download&id='$fileid'&confirm='$(<confirm.txt)\n",
        "\n",
        "rm -f confirm.txt cookies.txt"
      ],
      "execution_count": null,
      "outputs": []
    },
    {
      "cell_type": "code",
      "metadata": {
        "id": "zWAe-8iVyGd8",
        "colab": {
          "base_uri": "https://localhost:8080/"
        },
        "outputId": "460d8510-ecc6-4e13-eb12-2b3ca49808ee"
      },
      "source": [
        "!ls -l"
      ],
      "execution_count": null,
      "outputs": []
    },
    {
      "cell_type": "code",
      "metadata": {
        "colab": {
          "base_uri": "https://localhost:8080/"
        },
        "id": "ZKglpWrHT_G0",
        "outputId": "823212ea-3a4d-4ca2-b813-e5094343ff1e"
      },
      "source": [
        "!7z x byte_names.1.7z"
      ],
      "execution_count": null,
      "outputs": []
    },
    {
      "cell_type": "markdown",
      "metadata": {
        "id": "CAWSu-88vYRO"
      },
      "source": [
        "### Packages"
      ]
    },
    {
      "cell_type": "code",
      "metadata": {
        "id": "veLEHh46PKO_"
      },
      "source": [
        "import tensorflow as tf \n",
        "import numpy as np \n",
        "import matplotlib.pyplot as plt\n",
        "from tensorflow.keras import models,layers\n",
        "from tensorflow.keras.utils import Sequence\n",
        "#from tensorflow.python.keras.utils import data_utils\n",
        "import math\n",
        "import os\n",
        "import pandas\n",
        "from PIL import Image\n",
        "from tensorflow.keras.models import Sequential\n",
        "from tensorflow.keras.layers import Dense,Conv2D,Input,MaxPool2D,Dropout,Flatten,MaxPooling2D,BatchNormalization\n"
      ],
      "execution_count": 1,
      "outputs": [
        {
          "output_type": "stream",
          "name": "stdout",
          "text": [
            "INFO:tensorflow:Enabling eager execution\n",
            "INFO:tensorflow:Enabling v2 tensorshape\n",
            "INFO:tensorflow:Enabling resource variables\n",
            "INFO:tensorflow:Enabling tensor equality\n",
            "INFO:tensorflow:Enabling control flow v2\n"
          ]
        }
      ]
    },
    {
      "cell_type": "code",
      "metadata": {
        "id": "JHq24I3TPKPC"
      },
      "source": [
        "\n",
        "def conv(x):\n",
        "    if x=='??':\n",
        "        return -1\n",
        "    else:\n",
        "        return int(x,16)\n",
        "\n",
        "\n",
        "def getImage(filename):\n",
        "    f=open(filename)\n",
        "    rest=f.read()\n",
        "    lines=rest.splitlines()\n",
        "    img=[]\n",
        "    for line in lines:\n",
        "        el=line.split()\n",
        "        el=list(map(conv,el))\n",
        "        if(len(el)==17):\n",
        "            img.append(el[1:])\n",
        "    img=np.asarray(img,dtype=np.uint8)\n",
        "    img=Image.fromarray(img,'L')\n",
        "    img=img.resize((16,256),resample=Image.BOX)\n",
        "    img=np.array(img)\n",
        "    img=img.reshape(img.shape[0],img.shape[1],1)\n",
        "    f.close()\n",
        "    return img\n",
        "\n",
        "class ImageSequence(Sequence):\n",
        "    def __init__(self, x_set, y_set,dir, batch_size):\n",
        "        self.x, self.y = x_set, y_set\n",
        "        self.batch_size = batch_size\n",
        "        self.dir=dir\n",
        "\n",
        "    def __len__(self):\n",
        "        return math.ceil(len(self.x) / self.batch_size)\n",
        "\n",
        "    def __getitem__(self, idx):\n",
        "        batch_x = self.x[idx * self.batch_size:(idx + 1) *\n",
        "        self.batch_size]\n",
        "        batch_y = self.y[idx * self.batch_size:(idx + 1) *\n",
        "        self.batch_size]\n",
        "\n",
        "        return np.array([getImage(dir+filename+\".bytes\") for filename in batch_x]),batch_y\n"
      ],
      "execution_count": 2,
      "outputs": []
    },
    {
      "cell_type": "code",
      "metadata": {
        "id": "eqYsPEGWPKPF"
      },
      "source": [
        "batch_size=64\n",
        "data=pandas.read_csv(\"data/data1.csv\",header=Image.NONE)\n",
        "names=data.iloc[:,0].to_numpy()\n",
        "classes=data.iloc[:,1].to_numpy()-1\n",
        "#dir=\"c:\\\\Users\\\\hikma\\\\Downloads\\\\\"\n",
        "dir=\"data\\\\train\\\\\"\n",
        "\n",
        "train_dataset=ImageSequence(names,classes,dir,batch_size)\n",
        "#train_dataset=ImageSequence(train_figs,train_labels,batch_size)\n",
        "#test_dataset=CIFAR10Sequence(test_figs,test_labels,batch_size)\n",
        "(f,l)=train_dataset.__getitem__(0)\n",
        "f.shape\n",
        "l"
      ],
      "execution_count": 3,
      "outputs": [
        {
          "output_type": "execute_result",
          "data": {
            "text/plain": [
              "array([8, 7, 6, 7, 7, 1, 5, 2, 0, 0, 2, 1, 2, 7, 2, 2, 2, 2, 0, 0, 6, 2,\n",
              "       3, 0, 2, 7, 2, 5, 8, 1, 2, 5, 0, 2, 8, 8, 1, 1, 2, 2, 7, 5, 5, 8,\n",
              "       1, 0, 1, 2, 2, 2, 4, 1, 7, 0, 1, 8, 1, 7, 1, 2, 0, 2, 1, 1],\n",
              "      dtype=int64)"
            ]
          },
          "metadata": {},
          "execution_count": 3
        }
      ]
    },
    {
      "cell_type": "code",
      "metadata": {
        "id": "lClgW_GYH42o"
      },
      "source": [
        "def createModel():\n",
        "    model = Sequential()\n",
        "    model.add(Input(shape=(256,16,1)))\n",
        "    model.add(tf.keras.layers.experimental.preprocessing.Rescaling(1./255))\n",
        "    model.add(Conv2D(32, kernel_size = (3,3), activation = 'relu'))\n",
        "    #model.add(Conv2D(64, kernel_size = (3,3), activation = 'relu'))\n",
        "    #model.add(MaxPooling2D(pool_size = (2,2)))\n",
        "    #model.add(Dropout(.5))\n",
        "        \n",
        "    #model.add(Conv2D(128, kernel_size=(3, 3), activation='relu'))\n",
        "    #model.add(Conv2D(256, kernel_size=(3, 3), activation='relu'))\n",
        "    #model.add(MaxPooling2D(pool_size = (2,2)))\n",
        "    #model.add(Dropout(.5))\n",
        "    \n",
        "    model.add(Flatten())\n",
        "    model.add(Dense(1024, activation='relu'))\n",
        "    model.add(Dropout(0.5))\n",
        "    model.add(Dense(9, activation = 'softmax', name = 'Output'))\n",
        "    model.summary()\n",
        "    return model"
      ],
      "execution_count": 4,
      "outputs": []
    },
    {
      "cell_type": "code",
      "metadata": {
        "id": "rbrJYUhSEu_z"
      },
      "source": [
        "model=createModel()\n",
        "#tf.keras.utils.plot_model(model,show_shapes=True)\n",
        "model.summary()"
      ],
      "execution_count": 5,
      "outputs": [
        {
          "output_type": "stream",
          "name": "stdout",
          "text": [
            "WARNING:tensorflow:Please add `keras.layers.InputLayer` instead of `keras.Input` to Sequential model. `keras.Input` is intended to be used by Functional model.\n",
            "Model: \"sequential\"\n",
            "_________________________________________________________________\n",
            "Layer (type)                 Output Shape              Param #   \n",
            "=================================================================\n",
            "rescaling (Rescaling)        (None, 256, 16, 1)        0         \n",
            "_________________________________________________________________\n",
            "conv2d (Conv2D)              (None, 254, 14, 32)       320       \n",
            "_________________________________________________________________\n",
            "flatten (Flatten)            (None, 113792)            0         \n",
            "_________________________________________________________________\n",
            "dense (Dense)                (None, 1024)              116524032 \n",
            "_________________________________________________________________\n",
            "dropout (Dropout)            (None, 1024)              0         \n",
            "_________________________________________________________________\n",
            "Output (Dense)               (None, 9)                 9225      \n",
            "=================================================================\n",
            "Total params: 116,533,577\n",
            "Trainable params: 116,533,577\n",
            "Non-trainable params: 0\n",
            "_________________________________________________________________\n",
            "Model: \"sequential\"\n",
            "_________________________________________________________________\n",
            "Layer (type)                 Output Shape              Param #   \n",
            "=================================================================\n",
            "rescaling (Rescaling)        (None, 256, 16, 1)        0         \n",
            "_________________________________________________________________\n",
            "conv2d (Conv2D)              (None, 254, 14, 32)       320       \n",
            "_________________________________________________________________\n",
            "flatten (Flatten)            (None, 113792)            0         \n",
            "_________________________________________________________________\n",
            "dense (Dense)                (None, 1024)              116524032 \n",
            "_________________________________________________________________\n",
            "dropout (Dropout)            (None, 1024)              0         \n",
            "_________________________________________________________________\n",
            "Output (Dense)               (None, 9)                 9225      \n",
            "=================================================================\n",
            "Total params: 116,533,577\n",
            "Trainable params: 116,533,577\n",
            "Non-trainable params: 0\n",
            "_________________________________________________________________\n"
          ]
        }
      ]
    },
    {
      "cell_type": "markdown",
      "metadata": {
        "id": "pYUxWKQr6Kjl"
      },
      "source": [
        "## Optimization\n",
        "\n",
        "Keras can use many optimization method. In this notebook we use the __Adam__ method which can be described loosely as __adaptive__ gradient descent.\n",
        "\n",
        "Also since the labels are __NOT__ in one_hot_encoding we use the \"Sparse\" version of the crossentropy loss: __SparseCategoricalCrossentropy__. Finally, if we don't specify from_logits=False then the loss function would compute softwmax before computing the loss. Since we are computing softwmax in our model already we turn this step off by specifying from_logits=False"
      ]
    },
    {
      "cell_type": "code",
      "metadata": {
        "id": "9DbRaKJKFvug"
      },
      "source": [
        "# if we don't use softmax in the last layer, i.e. if the output of the\n",
        "# model is NOT probabilities then use from_logits=True\n",
        "model.compile(optimizer=tf.keras.optimizers.Adam(),\n",
        "              loss=tf.keras.losses.SparseCategoricalCrossentropy(from_logits=False),\n",
        "              metrics=['accuracy'])\n",
        "\n",
        "#history = model.fit(img_train,label_train, batch_size=128,epochs=10, \n",
        "#                    validation_data=(img_test, label_test))\n",
        "history=model.fit(train_dataset,batch_size=batch_size,epochs=10)\n"
      ],
      "execution_count": 7,
      "outputs": [
        {
          "output_type": "stream",
          "name": "stdout",
          "text": [
            "Epoch 1/10\n",
            "32/32 [==============================] - 1208s 38s/step - loss: 13.0235 - accuracy: 0.3726\n",
            "Epoch 2/10\n",
            "32/32 [==============================] - 1490s 47s/step - loss: 0.7498 - accuracy: 0.7946\n",
            "Epoch 3/10\n",
            "32/32 [==============================] - 8213s 264s/step - loss: 0.3871 - accuracy: 0.8855\n",
            "Epoch 4/10\n",
            " 6/32 [====>.........................] - ETA: 16:34 - loss: 0.2377 - accuracy: 0.9417"
          ]
        }
      ]
    },
    {
      "cell_type": "markdown",
      "metadata": {
        "id": "iLe-ndQpqbPj"
      },
      "source": [
        "### Testing the Accuracy"
      ]
    },
    {
      "cell_type": "code",
      "metadata": {
        "id": "WuvWaksuYAKi"
      },
      "source": [
        "_,test_accuracy=model.evaluate(test_dataset)"
      ],
      "execution_count": null,
      "outputs": []
    },
    {
      "cell_type": "code",
      "metadata": {
        "id": "s2PPy_mPPKPK"
      },
      "source": [],
      "execution_count": null,
      "outputs": []
    }
  ]
}
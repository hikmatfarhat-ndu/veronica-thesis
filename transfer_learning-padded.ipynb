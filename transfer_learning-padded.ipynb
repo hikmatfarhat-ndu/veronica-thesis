{
  "nbformat": 4,
  "nbformat_minor": 2,
  "metadata": {
    "colab": {
      "name": "transfer_learning.ipynb",
      "provenance": [],
      "collapsed_sections": [],
      "toc_visible": true,
      "machine_shape": "hm"
    },
    "kernelspec": {
      "name": "python3",
      "display_name": "Python 3.9.1 64-bit"
    },
    "language_info": {
      "name": "python",
      "version": "3.9.1",
      "mimetype": "text/x-python",
      "codemirror_mode": {
        "name": "ipython",
        "version": 3
      },
      "pygments_lexer": "ipython3",
      "nbconvert_exporter": "python",
      "file_extension": ".py"
    },
    "accelerator": "GPU",
    "interpreter": {
      "hash": "63fd5069d213b44bf678585dea6b12cceca9941eaf7f819626cde1f2670de90d"
    }
  },
  "cells": [
    {
      "cell_type": "markdown",
      "source": [
        "## Imports and loading data"
      ],
      "metadata": {
        "id": "AgOTj8txrmyD"
      }
    },
    {
      "cell_type": "code",
      "execution_count": null,
      "source": [
        "import tensorflow as tf\r\n",
        "import numpy as np"
      ],
      "outputs": [],
      "metadata": {
        "id": "rEnLgPR7Ixv5"
      }
    },
    {
      "cell_type": "code",
      "execution_count": null,
      "source": [
        "image_size=(256,256)\r\n",
        "dir=\"data/padded-resized/\"\r\n",
        "dataset=tf.keras.preprocessing.image_dataset_from_directory(dir+\"train\",batch_size=32,image_size=image_size,\r\n",
        "                                                            validation_split=0.1,\r\n",
        "                                                            subset=\"training\",\r\n",
        "                                                            seed=123,\r\n",
        "                                                            shuffle=True,color_mode=\"rgb\")\r\n",
        "test_dataset=tf.keras.preprocessing.image_dataset_from_directory(dir+\"train\",batch_size=32,image_size=image_size,\r\n",
        "                                                            validation_split=0.1,\r\n",
        "                                                            seed=123,\r\n",
        "                                                            subset=\"validation\",\r\n",
        "                                                            shuffle=True,color_mode=\"rgb\")\r\n",
        "\r\n"
      ],
      "outputs": [],
      "metadata": {}
    },
    {
      "cell_type": "markdown",
      "source": [
        "## Loading VGG16 model"
      ],
      "metadata": {
        "id": "yu6FRHvlrxhM"
      }
    },
    {
      "cell_type": "code",
      "execution_count": null,
      "source": [
        "b=dataset.take(1)\r\n",
        "for i,l in b:\r\n",
        "    print(l)"
      ],
      "outputs": [],
      "metadata": {}
    },
    {
      "cell_type": "code",
      "execution_count": null,
      "source": [
        "from tensorflow.keras.applications.vgg16 import VGG16\r\n",
        "from tensorflow.keras.applications.resnet import ResNet101\r\n",
        "from tensorflow.keras.applications.resnet50 import ResNet50\r\n",
        "from tensorflow.keras.applications.mobilenet_v2 import MobileNetV2\r\n",
        "\r\n",
        "#????base_model=InceptionV3(weights=\"imagenet\",include_top=False,input_shape=(256,256,3))\r\n",
        "#base_model = VGG16(weights=\"imagenet\", include_top=False, input_shape=(256,256,3))\r\n",
        "#base_model = ResNet101(weights=\"imagenet\", include_top=False, input_shape=(256,256,3))\r\n",
        "base_model = ResNet50(weights=\"imagenet\", include_top=False, input_shape=(256,256,3))\r\n",
        "#base_model = MobileNetV2(weights=\"imagenet\", include_top=False, input_shape=(256,256,3))\r\n",
        "\r\n",
        "base_model.trainable = False\r\n"
      ],
      "outputs": [],
      "metadata": {
        "id": "uF2n4UwiJvkd"
      }
    },
    {
      "cell_type": "code",
      "execution_count": null,
      "source": [
        "base_model.summary()"
      ],
      "outputs": [],
      "metadata": {
        "colab": {
          "base_uri": "https://localhost:8080/"
        },
        "id": "B4E5eiLVfjXm",
        "outputId": "1f80ec11-f533-4eca-a26c-223659544734"
      }
    },
    {
      "cell_type": "markdown",
      "source": [
        "## Adding Layers"
      ],
      "metadata": {
        "id": "k9vNgk67sUqK"
      }
    },
    {
      "cell_type": "code",
      "execution_count": null,
      "source": [
        "from tensorflow.keras import layers, models\r\n",
        "\r\n",
        "\r\n",
        "flatten_layer = layers.Flatten()\r\n",
        "dense_layer_1 = layers.Dense(1024, activation='relu')\r\n",
        "#dense_layer_1 = layers.Dense(50, activation='relu')\r\n",
        "dense_layer_2 = layers.Dense(20, activation='relu')\r\n",
        "prediction_layer = layers.Dense(9, activation='softmax')\r\n",
        "\r\n",
        "\r\n",
        "\r\n",
        "model = models.Sequential([\r\n",
        "    base_model,\r\n",
        "    flatten_layer,\r\n",
        "    dense_layer_1,\r\n",
        " #   dense_layer_2,\r\n",
        "    prediction_layer\r\n",
        "])\r\n"
      ],
      "outputs": [],
      "metadata": {
        "id": "sinRGfJGTseu"
      }
    },
    {
      "cell_type": "code",
      "execution_count": null,
      "source": [
        "model.summary()"
      ],
      "outputs": [],
      "metadata": {
        "colab": {
          "base_uri": "https://localhost:8080/"
        },
        "id": "geu0lCr2ULTi",
        "outputId": "9d81e0ca-4421-424d-9087-899635618886"
      }
    },
    {
      "cell_type": "markdown",
      "source": [
        "## Training model"
      ],
      "metadata": {
        "id": "Um5OizbxsXf0"
      }
    },
    {
      "cell_type": "code",
      "execution_count": null,
      "source": [
        "from tensorflow.keras.callbacks import EarlyStopping\r\n",
        "\r\n",
        "model.compile(\r\n",
        "    optimizer='adam',\r\n",
        "    loss='sparse_categorical_crossentropy',\r\n",
        "    metrics=['accuracy'],\r\n",
        ")\r\n",
        "\r\n",
        "\r\n",
        "es = EarlyStopping(monitor='val_accuracy', mode='max', patience=5,  restore_best_weights=True)\r\n",
        "\r\n",
        "history=model.fit(dataset, validation_data=test_dataset,epochs=3, batch_size=32, callbacks=[es])"
      ],
      "outputs": [],
      "metadata": {
        "colab": {
          "base_uri": "https://localhost:8080/"
        },
        "id": "zi3E1oEyand0",
        "outputId": "74ed18fc-4736-4381-e00d-1cc2608eefaf"
      }
    },
    {
      "cell_type": "code",
      "execution_count": null,
      "source": [
        "print(history.history.keys())\r\n",
        "print(history.history['val_loss'])\r\n"
      ],
      "outputs": [],
      "metadata": {}
    },
    {
      "cell_type": "code",
      "execution_count": null,
      "source": [
        "model.evaluate(test_dataset)"
      ],
      "outputs": [],
      "metadata": {
        "colab": {
          "base_uri": "https://localhost:8080/"
        },
        "id": "sI3fy0o4gjj1",
        "outputId": "fa2cb434-263c-40e9-98c2-fe08e90bbcfe"
      }
    },
    {
      "cell_type": "code",
      "execution_count": null,
      "source": [
        "imgs=[]\r\n",
        "labels=[]\r\n",
        "test_dataset=test_dataset.unbatch()\r\n",
        "for x,y in test_dataset.as_numpy_iterator(): \r\n",
        "    imgs.append(x)\r\n",
        "    labels.append(y)\r\n",
        "imgs=np.array(imgs)\r\n",
        "labels=np.array(labels)"
      ],
      "outputs": [],
      "metadata": {}
    },
    {
      "cell_type": "code",
      "execution_count": null,
      "source": [
        "\r\n",
        "\r\n",
        "probabilities=model.predict(imgs)\r\n",
        "predictions=np.argmax(probabilities,axis=1)\r\n"
      ],
      "outputs": [],
      "metadata": {}
    },
    {
      "cell_type": "code",
      "execution_count": null,
      "source": [
        "\r\n",
        "m=tf.math.confusion_matrix(labels,predictions)\r\n",
        "m"
      ],
      "outputs": [],
      "metadata": {}
    },
    {
      "cell_type": "code",
      "execution_count": null,
      "source": [
        "import seaborn as sb\r\n",
        "import matplotlib.pyplot as plt\r\n",
        "plt.figure(figsize=(10, 7))\r\n",
        "sb.heatmap(m/np.sum(m,axis=1).reshape(9,1), xticklabels=dataset.class_names, yticklabels=dataset.class_names, \r\n",
        "            annot=True,fmt=\".2f\")\r\n",
        "plt.xlabel('Prediction')\r\n",
        "plt.ylabel('Label')\r\n",
        "plt.show()"
      ],
      "outputs": [],
      "metadata": {}
    },
    {
      "cell_type": "code",
      "execution_count": null,
      "source": [],
      "outputs": [],
      "metadata": {}
    }
  ]
}
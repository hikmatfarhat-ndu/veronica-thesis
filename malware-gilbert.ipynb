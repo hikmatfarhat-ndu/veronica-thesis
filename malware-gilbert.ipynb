{
  "nbformat": 4,
  "nbformat_minor": 0,
  "metadata": {
    "colab": {
      "name": "malware.ipynb",
      "provenance": [],
      "include_colab_link": true
    },
    "kernelspec": {
      "name": "python3",
      "display_name": "Python 3.9.1 64-bit"
    },
    "metadata": {
      "interpreter": {
        "hash": "63fd5069d213b44bf678585dea6b12cceca9941eaf7f819626cde1f2670de90d"
      }
    },
    "language_info": {
      "name": "python",
      "version": "3.9.1"
    },
    "interpreter": {
      "hash": "63fd5069d213b44bf678585dea6b12cceca9941eaf7f819626cde1f2670de90d"
    }
  },
  "cells": [
    {
      "cell_type": "markdown",
      "metadata": {
        "id": "view-in-github",
        "colab_type": "text"
      },
      "source": [
        "<a href=\"https://colab.research.google.com/github/hikmatfarhat-ndu/veronica-thesis/blob/master/malware.ipynb\" target=\"_parent\"><img src=\"https://colab.research.google.com/assets/colab-badge.svg\" alt=\"Open In Colab\"/></a>"
      ]
    },
    {
      "cell_type": "markdown",
      "metadata": {
        "id": "CAWSu-88vYRO"
      },
      "source": [
        "### Packages"
      ]
    },
    {
      "cell_type": "code",
      "metadata": {
        "id": "veLEHh46PKO_"
      },
      "source": [
        "import tensorflow as tf \n",
        "import numpy as np \n",
        "import matplotlib.pyplot as plt\n",
        "from tensorflow.keras import models,layers\n",
        "from tensorflow.keras.utils import Sequence\n",
        "#from tensorflow.python.keras.utils import data_utils\n",
        "import math\n",
        "import os\n",
        "import pandas\n",
        "from PIL import Image\n",
        "from tensorflow.keras.models import Sequential\n",
        "from tensorflow.keras.layers import Dense,Conv3D,Conv2D,InputLayer,MaxPooling3D,Dropout,Flatten,MaxPooling2D,BatchNormalization,LayerNormalization\n"
      ],
      "execution_count": 1,
      "outputs": [
        {
          "output_type": "stream",
          "name": "stdout",
          "text": [
            "INFO:tensorflow:Enabling eager execution\n",
            "INFO:tensorflow:Enabling v2 tensorshape\n",
            "INFO:tensorflow:Enabling resource variables\n",
            "INFO:tensorflow:Enabling tensor equality\n",
            "INFO:tensorflow:Enabling control flow v2\n"
          ]
        }
      ]
    },
    {
      "cell_type": "code",
      "metadata": {
        "id": "JHq24I3TPKPC"
      },
      "source": [
        "\n",
        "def conv(x):\n",
        "    if x=='??':\n",
        "        return -1\n",
        "    else:\n",
        "        return int(x,16)\n",
        "\n",
        "\n",
        "def getImage(filename):\n",
        "    f=open(filename)\n",
        "    rest=f.read()\n",
        "    lines=rest.splitlines()\n",
        "    img=[]\n",
        "    for line in lines:\n",
        "        el=line.split()\n",
        "        el=list(map(conv,el))\n",
        "        if(len(el)==17):\n",
        "            img.append(el[1:])\n",
        "    img=np.asarray(img,dtype=np.uint8)\n",
        "    img=Image.fromarray(img,'L')\n",
        "    img=img.resize((128,128),resample=Image.BOX)\n",
        "    img=np.array(img)\n",
        "    img=img.reshape(img.shape[0],img.shape[1],1,1)\n",
        "    f.close()\n",
        "    return img\n",
        "\n",
        "class ImageSequence(Sequence):\n",
        "    def __init__(self, x_set, y_set,dir, batch_size):\n",
        "        self.x, self.y = x_set, y_set\n",
        "        self.batch_size = batch_size\n",
        "        self.dir=dir\n",
        "\n",
        "    def __len__(self):\n",
        "        return math.ceil(len(self.x) / self.batch_size)\n",
        "\n",
        "    def __getitem__(self, idx):\n",
        "        batch_x = self.x[idx * self.batch_size:(idx + 1) *\n",
        "        self.batch_size]\n",
        "        batch_y = self.y[idx * self.batch_size:(idx + 1) *\n",
        "        self.batch_size]\n",
        "\n",
        "        return np.array([getImage(dir+filename+\".bytes\") for filename in batch_x]),batch_y\n"
      ],
      "execution_count": 2,
      "outputs": []
    },
    {
      "cell_type": "code",
      "metadata": {
        "id": "eqYsPEGWPKPF"
      },
      "source": [
        "batch_size=32\n",
        "data=pandas.read_csv(\"data/data.1.csv\",header=None)\n",
        "names=data.iloc[:,0].to_numpy()\n",
        "classes=data.iloc[:,1].to_numpy()-1\n",
        "##data=pandas.read_csv(\"data/data.2.csv\",header=None)\n",
        "##names=np.append(names,data.iloc[:,0].to_numpy())\n",
        "##classes=np.append(classes,data.iloc[:,1].to_numpy)\n",
        "#dir=\"c:\\\\Users\\\\hikma\\\\Downloads\\\\\"\n",
        "dir=\"data\\\\train\\\\\"\n",
        "\n",
        "train_dataset=ImageSequence(names,classes,dir,batch_size)\n",
        "\n",
        "##data=pandas.read_csv(\"data/data.6.csv\",header=None)\n",
        "# test dataset\n",
        "##names=data.iloc[0:500,0].to_numpy()\n",
        "##classes=data.iloc[0:500,1].to_numpy()-1\n",
        "##test_dataset=ImageSequence(names,classes,dir,batch_size)\n",
        "(f,l)=train_dataset.__getitem__(0)\n",
        "f.shape\n",
        "l"
      ],
      "execution_count": 3,
      "outputs": [
        {
          "output_type": "execute_result",
          "data": {
            "text/plain": [
              "array([2, 8, 7, 6, 7, 7, 1, 5, 2, 0, 0, 2, 1, 2, 7, 2, 2, 2, 2, 0, 0, 6,\n",
              "       2, 3, 0, 2, 7, 2, 5, 8, 1, 2], dtype=int64)"
            ]
          },
          "metadata": {},
          "execution_count": 3
        }
      ]
    },
    {
      "cell_type": "code",
      "execution_count": 4,
      "metadata": {},
      "outputs": [
        {
          "output_type": "execute_result",
          "data": {
            "text/plain": [
              "(32, 128, 128, 1, 1)"
            ]
          },
          "metadata": {},
          "execution_count": 4
        }
      ],
      "source": [
        "f.shape"
      ]
    },
    {
      "cell_type": "code",
      "execution_count": 30,
      "metadata": {},
      "outputs": [],
      "source": [
        "def createModelGilbert():\n",
        "    model = Sequential()\n",
        "    model.add(InputLayer(input_shape=(128,128,1,1)))\n",
        "    model.add(tf.keras.layers.experimental.preprocessing.Rescaling(1./255))\n",
        "   \n",
        "    model.add(Conv3D(50, kernel_size = (5,5,1), activation = 'relu'))\n",
        "    model.add(MaxPooling3D(pool_size = (2,2,1)))\n",
        "    model.add(LayerNormalization())\n",
        "    \n",
        "    #model.add(Conv3D(70, kernel_size = (3,3,50), activation = 'relu'))\n",
        "    #model.add(MaxPooling3D(pool_size = (2,2,1)))\n",
        "    #model.add(LayerNormalization()) \n",
        "\n",
        "    #model.add(Conv3D(70,kernel_size=(3,3,70),activation='relu'))\n",
        "    #model.add(MaxPooling3D(pool_size = (2,2,1)))\n",
        "    #model.add(LayerNormalization())\n",
        "\n",
        "\n",
        "    model.add(Flatten())\n",
        "    model.add(Dense(256, activation='relu'))\n",
        "    model.add(Dense(9, activation = 'softmax', name = 'Output'))\n",
        "    return model\n"
      ]
    },
    {
      "cell_type": "code",
      "metadata": {
        "id": "rbrJYUhSEu_z"
      },
      "source": [
        "#model=createModel()\n",
        "#tf.keras.utils.plot_model(model,show_shapes=True)\n",
        "model=createModelGilbert()\n",
        "model.summary()"
      ],
      "execution_count": 31,
      "outputs": [
        {
          "output_type": "stream",
          "name": "stdout",
          "text": [
            "Model: \"sequential_12\"\n_________________________________________________________________\nLayer (type)                 Output Shape              Param #   \n=================================================================\nrescaling_12 (Rescaling)     (None, 128, 128, 1, 1)    0         \n_________________________________________________________________\nconv3d_20 (Conv3D)           (None, 124, 124, 1, 50)   1300      \n_________________________________________________________________\nmax_pooling3d_11 (MaxPooling (None, 62, 62, 1, 50)     0         \n_________________________________________________________________\nlayer_normalization_7 (Layer (None, 62, 62, 1, 50)     100       \n_________________________________________________________________\nflatten_3 (Flatten)          (None, 192200)            0         \n_________________________________________________________________\ndense_3 (Dense)              (None, 256)               49203456  \n_________________________________________________________________\nOutput (Dense)               (None, 9)                 2313      \n=================================================================\nTotal params: 49,207,169\nTrainable params: 49,207,169\nNon-trainable params: 0\n_________________________________________________________________\n"
          ]
        }
      ]
    },
    {
      "cell_type": "markdown",
      "metadata": {
        "id": "pYUxWKQr6Kjl"
      },
      "source": [
        "## Optimization\n",
        "\n",
        "Keras can use many optimization method. In this notebook we use the __Adam__ method which can be described loosely as __adaptive__ gradient descent.\n",
        "\n",
        "Also since the labels are __NOT__ in one_hot_encoding we use the \"Sparse\" version of the crossentropy loss: __SparseCategoricalCrossentropy__. Finally, if we don't specify from_logits=False then the loss function would compute softwmax before computing the loss. Since we are computing softwmax in our model already we turn this step off by specifying from_logits=False"
      ]
    },
    {
      "cell_type": "code",
      "metadata": {
        "id": "9DbRaKJKFvug"
      },
      "source": [
        "# if we don't use softmax in the last layer, i.e. if the output of the\n",
        "# model is NOT probabilities then use from_logits=True\n",
        "model.compile(optimizer=tf.keras.optimizers.Adam(),\n",
        "              loss=tf.keras.losses.SparseCategoricalCrossentropy(from_logits=False),\n",
        "              metrics=['accuracy'])\n",
        "\n",
        "#history = model.fit(img_train,label_train, batch_size=128,epochs=10, \n",
        "#                    validation_data=(img_test, label_test))\n",
        "history=model.fit(train_dataset,batch_size=batch_size,epochs=3)\n"
      ],
      "execution_count": 27,
      "outputs": [
        {
          "output_type": "stream",
          "name": "stdout",
          "text": [
            "Epoch 1/3\n",
            " 7/63 [==>...........................] - ETA: 28:42 - loss: 14.8080 - accuracy: 0.1260"
          ]
        }
      ]
    },
    {
      "cell_type": "markdown",
      "metadata": {
        "id": "iLe-ndQpqbPj"
      },
      "source": [
        "### Testing the Accuracy"
      ]
    },
    {
      "cell_type": "code",
      "metadata": {
        "id": "WuvWaksuYAKi"
      },
      "source": [
        "data=pandas.read_csv(\"data/data.6.csv\",header=None)\n",
        "# test dataset\n",
        "n=200\n",
        "names=data.iloc[0:n,0].to_numpy()\n",
        "classes=data.iloc[0:n,1].to_numpy()-1\n",
        "test_dataset=ImageSequence(names,classes,dir,n)\n",
        "_,test_accuracy=model.evaluate(test_dataset)"
      ],
      "execution_count": 10,
      "outputs": [
        {
          "output_type": "stream",
          "name": "stdout",
          "text": [
            "1/1 [==============================] - 87s 87s/step - loss: 0.4443 - accuracy: 0.8850\n"
          ]
        }
      ]
    },
    {
      "cell_type": "code",
      "metadata": {
        "id": "s2PPy_mPPKPK"
      },
      "source": [],
      "execution_count": null,
      "outputs": []
    }
  ]
}
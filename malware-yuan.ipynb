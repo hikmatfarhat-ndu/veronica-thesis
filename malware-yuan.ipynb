{
  "nbformat": 4,
  "nbformat_minor": 0,
  "metadata": {
    "colab": {
      "name": "malware.ipynb",
      "provenance": [],
      "include_colab_link": true
    },
    "kernelspec": {
      "name": "python3",
      "display_name": "Python 3.9.1 64-bit"
    },
    "metadata": {
      "interpreter": {
        "hash": "63fd5069d213b44bf678585dea6b12cceca9941eaf7f819626cde1f2670de90d"
      }
    },
    "language_info": {
      "name": "python",
      "version": "3.9.1"
    },
    "interpreter": {
      "hash": "63fd5069d213b44bf678585dea6b12cceca9941eaf7f819626cde1f2670de90d"
    }
  },
  "cells": [
    {
      "cell_type": "markdown",
      "metadata": {
        "id": "view-in-github",
        "colab_type": "text"
      },
      "source": [
        "<a href=\"https://colab.research.google.com/github/hikmatfarhat-ndu/veronica-thesis/blob/master/malware.ipynb\" target=\"_parent\"><img src=\"https://colab.research.google.com/assets/colab-badge.svg\" alt=\"Open In Colab\"/></a>"
      ]
    },
    {
      "cell_type": "markdown",
      "metadata": {
        "id": "CAWSu-88vYRO"
      },
      "source": [
        "### Packages"
      ]
    },
    {
      "cell_type": "code",
      "metadata": {
        "id": "veLEHh46PKO_"
      },
      "source": [
        "import tensorflow as tf \n",
        "import numpy as np \n",
        "import matplotlib.pyplot as plt\n",
        "from tensorflow.keras import models,layers\n",
        "from tensorflow.keras.utils import Sequence\n",
        "#from tensorflow.python.keras.utils import data_utils\n",
        "import math\n",
        "import os\n",
        "import pandas\n",
        "from PIL import Image\n",
        "from tensorflow.keras.models import Sequential\n",
        "from tensorflow.keras.layers import Dense,Conv3D,Conv2D,InputLayer,MaxPooling3D,Dropout,Flatten,MaxPooling2D,BatchNormalization,LayerNormalization\n"
      ],
      "execution_count": null,
      "outputs": []
    },
    {
      "cell_type": "code",
      "metadata": {
        "id": "JHq24I3TPKPC"
      },
      "source": [
        "\n",
        "def conv(x):\n",
        "    if x=='??':\n",
        "        return -1\n",
        "    else:\n",
        "        return int(x,16)\n",
        "\n",
        "\n",
        "def getImage(dir,resized_dir,filename):\n",
        "    f=open(filename)\n",
        "    getImage.count+=1\n",
        "    if getImage.count%100 == 0:\n",
        "       print(\"processed {} images\".format(getImage.count))\n",
        "    rest=f.read()\n",
        "    lines=rest.splitlines()\n",
        "    img=[]\n",
        "    for line in lines:\n",
        "        el=line.split()\n",
        "        el=list(map(conv,el))\n",
        "        if(len(el)==17):\n",
        "            img.append(el[1:])\n",
        "    img=np.asarray(img,dtype=np.uint8)\n",
        "    img=Image.fromarray(img,'L')\n",
        "    img=img.resize((256,256),resample=Image.LANCZOS)\n",
        "    img=np.array(img)\n",
        "    img=img.reshape(img.shape[0],img.shape[1],1)\n",
        "    f.close()\n",
        "    return img\n",
        "\n",
        "class ImageSequence(Sequence):\n",
        "    def __init__(self, x_set, y_set,dir, resized_dir,batch_size):\n",
        "        self.x, self.y = x_set, y_set\n",
        "        self.batch_size = batch_size\n",
        "        self.dir=dir\n",
        "        self.resized_dir=resized_dir\n",
        "\n",
        "    def __len__(self):\n",
        "        return math.ceil(len(self.x) / self.batch_size)\n",
        "\n",
        "    def __getitem__(self, idx):\n",
        "        batch_x = self.x[idx * self.batch_size:(idx + 1) *\n",
        "        self.batch_size]\n",
        "        batch_y = self.y[idx * self.batch_size:(idx + 1) *\n",
        "        self.batch_size]\n",
        "\n",
        "        return np.array([getImage(dir,resized_dir,filename) for filename in batch_x]),batch_y\n"
      ],
      "execution_count": null,
      "outputs": []
    },
    {
      "cell_type": "code",
      "metadata": {
        "id": "eqYsPEGWPKPF",
        "tags": [
          "outputPrepend"
        ]
      },
      "source": [
        "getImage.count=0\n",
        "batch_size=4000\n",
        "data=pandas.read_csv(\"data/data-4000.csv\",header=None)\n",
        "names=data.iloc[:,0].to_numpy()\n",
        "classes=data.iloc[:,1].to_numpy()-1\n",
        "##data=pandas.read_csv(\"data/data.2.csv\",header=None)\n",
        "##names=np.append(names,data.iloc[:,0].to_numpy())\n",
        "##classes=np.append(classes,data.iloc[:,1].to_numpy)\n",
        "#dir=\"c:\\\\Users\\\\hikma\\\\Downloads\\\\\"\n",
        "dir=\"data\\\\train\\\\\"\n",
        "\n",
        "train_dataset=ImageSequence(names,classes,dir,batch_size)\n",
        "\n",
        "print(\"getting first batch\")\n",
        "(f,l)=train_dataset.__getitem__(0)\n",
        "f.shape\n",
        "l"
      ],
      "execution_count": null,
      "outputs": []
    },
    {
      "cell_type": "code",
      "execution_count": null,
      "metadata": {},
      "outputs": [],
      "source": [
        "f.shape"
      ]
    },
    {
      "cell_type": "code",
      "execution_count": null,
      "metadata": {},
      "outputs": [],
      "source": [
        "def createModelYuan():\n",
        "    model = Sequential()\n",
        "    model.add(InputLayer(input_shape=(256,256,1)))\n",
        "    #model.add(tf.keras.layers.experimental.preprocessing.Rescaling(1./255))\n",
        "   \n",
        "    model.add(Conv2D(64, kernel_size = (3,3),strides=(1,1), padding='same',activation = 'relu'))\n",
        "    model.add(Conv2D(64, kernel_size = (3,3),strides=(1,1), padding='same',activation = 'relu'))\n",
        "    model.add(MaxPooling2D(pool_size = (2,2)))\n",
        "\n",
        "    model.add(Conv2D(128, kernel_size = (3,3),strides=(1,1), padding='same',activation = 'relu'))\n",
        "    model.add(Conv2D(128, kernel_size = (3,3),strides=(1,1), padding='same',activation = 'relu'))\n",
        "    model.add(MaxPooling2D(pool_size = (2,2)))\n",
        "    \n",
        "\n",
        "    model.add(Conv2D(256, kernel_size = (3,3),strides=(1,1), padding='same',activation = 'relu'))\n",
        "    model.add(Conv2D(256, kernel_size = (3,3), strides=(1,1),padding='same',activation = 'relu'))\n",
        "    model.add(Conv2D(256, kernel_size = (3,3), strides=(1,1),padding='same',activation = 'relu'))\n",
        "    model.add(MaxPooling2D(pool_size = (2,2)))\n",
        "\n",
        "\n",
        "    model.add(Conv2D(512, kernel_size = (3,3), strides=(1,1),padding='same',activation = 'relu'))\n",
        "    model.add(Conv2D(512, kernel_size = (3,3), strides=(1,1),padding='same',activation = 'relu'))\n",
        "    model.add(Conv2D(512, kernel_size = (3,3), strides=(1,1),padding='same',activation = 'relu'))\n",
        "    model.add(MaxPooling2D(pool_size = (2,2)))\n",
        "\n",
        "    model.add(Conv2D(512, kernel_size = (3,3), strides=(1,1),padding='same',activation = 'relu'))\n",
        "    model.add(Conv2D(512, kernel_size = (3,3), strides=(1,1),padding='same',activation = 'relu'))\n",
        "    model.add(Conv2D(512, kernel_size = (3,3), strides=(1,1),padding='same',activation = 'relu'))\n",
        "    model.add(MaxPooling2D(pool_size = (2,2)))\n",
        "\n",
        "\n",
        "    model.add(Flatten())\n",
        "    model.add(Dense(1024, activation='relu'))\n",
        "    model.add(Dense(9, activation = 'softmax', name = 'Output'))\n",
        "    return model\n"
      ]
    },
    {
      "cell_type": "code",
      "metadata": {
        "id": "rbrJYUhSEu_z"
      },
      "source": [
        "\n",
        "model=createModelYuan()\n",
        "model.summary()"
      ],
      "execution_count": null,
      "outputs": []
    },
    {
      "cell_type": "markdown",
      "metadata": {
        "id": "pYUxWKQr6Kjl"
      },
      "source": [
        "## Optimization\n",
        "\n",
        "Keras can use many optimization method. In this notebook we use the __Adam__ method which can be described loosely as __adaptive__ gradient descent.\n",
        "\n",
        "Also since the labels are __NOT__ in one_hot_encoding we use the \"Sparse\" version of the crossentropy loss: __SparseCategoricalCrossentropy__. Finally, if we don't specify from_logits=False then the loss function would compute softwmax before computing the loss. Since we are computing softwmax in our model already we turn this step off by specifying from_logits=False"
      ]
    },
    {
      "cell_type": "code",
      "metadata": {
        "id": "9DbRaKJKFvug"
      },
      "source": [
        "# if we don't use softmax in the last layer, i.e. if the output of the\n",
        "# model is NOT probabilities then use from_logits=True\n",
        "model.compile(optimizer=tf.keras.optimizers.Adam(),\n",
        "              loss=tf.keras.losses.SparseCategoricalCrossentropy(from_logits=False),\n",
        "              metrics=['accuracy'])\n",
        "\n",
        "#history = model.fit(img_train,label_train, batch_size=128,epochs=10, \n",
        "#                    validation_data=(img_test, label_test))\n",
        "#history=model.fit(train_dataset,batch_size=batch_size,epochs=3)\n",
        "model.load_weights(\"weights-2000.h5\")\n",
        "history=model.fit(f,l,batch_size=32,epochs=5)\n"
      ],
      "execution_count": null,
      "outputs": []
    },
    {
      "cell_type": "code",
      "execution_count": null,
      "metadata": {},
      "outputs": [],
      "source": [
        "model.save_weights(\"weights-4000.h5\")"
      ]
    },
    {
      "cell_type": "markdown",
      "metadata": {
        "id": "iLe-ndQpqbPj"
      },
      "source": [
        "### Testing the Accuracy"
      ]
    },
    {
      "cell_type": "code",
      "execution_count": null,
      "metadata": {},
      "outputs": [],
      "source": []
    },
    {
      "cell_type": "code",
      "metadata": {
        "id": "WuvWaksuYAKi",
        "tags": []
      },
      "source": [
        "data=pandas.read_csv(\"data/data.6.csv\",header=None)\n",
        "# test dataset\n",
        "n=800\n",
        "names=data.iloc[0:n,0].to_numpy()\n",
        "classes=data.iloc[0:n,1].to_numpy()-1\n",
        "test_dataset=ImageSequence(names,classes,dir,32)\n",
        "_,test_accuracy=model.evaluate(test_dataset)"
      ],
      "execution_count": null,
      "outputs": []
    },
    {
      "cell_type": "code",
      "metadata": {
        "id": "s2PPy_mPPKPK"
      },
      "source": [],
      "execution_count": null,
      "outputs": []
    }
  ]
}
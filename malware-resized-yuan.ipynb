{
  "cells": [
    {
      "cell_type": "markdown",
      "metadata": {
        "colab_type": "text",
        "id": "view-in-github"
      },
      "source": [
        "<a href=\"https://colab.research.google.com/github/hikmatfarhat-ndu/veronica-thesis/blob/master/malware.ipynb\" target=\"_parent\"><img src=\"https://colab.research.google.com/assets/colab-badge.svg\" alt=\"Open In Colab\"/></a>"
      ]
    },
    {
      "cell_type": "markdown",
      "metadata": {
        "id": "CAWSu-88vYRO"
      },
      "source": [
        "### Packages"
      ]
    },
    {
      "cell_type": "code",
      "execution_count": 1,
      "metadata": {
        "id": "veLEHh46PKO_"
      },
      "outputs": [
        {
          "name": "stdout",
          "output_type": "stream",
          "text": [
            "INFO:tensorflow:Enabling eager execution\n",
            "INFO:tensorflow:Enabling v2 tensorshape\n",
            "INFO:tensorflow:Enabling resource variables\n",
            "INFO:tensorflow:Enabling tensor equality\n",
            "INFO:tensorflow:Enabling control flow v2\n"
          ]
        }
      ],
      "source": [
        "import tensorflow as tf \n",
        "import numpy as np \n",
        "import matplotlib.pyplot as plt\n",
        "from tensorflow.keras import models,layers\n",
        "from tensorflow.keras.utils import Sequence\n",
        "#from tensorflow.python.keras.utils import data_utils\n",
        "import math\n",
        "import os\n",
        "import pandas\n",
        "from PIL import Image\n",
        "from tensorflow.keras.models import Sequential\n",
        "from tensorflow.keras.layers import Dense,Conv3D,Conv2D,InputLayer,MaxPooling3D,Dropout,Flatten,MaxPooling2D,BatchNormalization,LayerNormalization\n"
      ]
    },
    {
      "cell_type": "code",
      "execution_count": 2,
      "metadata": {},
      "outputs": [
        {
          "name": "stdout",
          "output_type": "stream",
          "text": [
            "Found 8000 files belonging to 9 classes.\n",
            "Found 868 files belonging to 9 classes.\n"
          ]
        }
      ],
      "source": [
        "image_size=(256,256)\n",
        "dataset=tf.keras.preprocessing.image_dataset_from_directory(\"data/resized/train\",batch_size=32,image_size=image_size,\n",
        "                                                            shuffle=True,color_mode=\"grayscale\")\n",
        "test_dataset=tf.keras.preprocessing.image_dataset_from_directory(\"data/resized/test\",batch_size=32,image_size=image_size,\n",
        "                                                            shuffle=False,color_mode=\"grayscale\")"
      ]
    },
    {
      "cell_type": "code",
      "execution_count": 3,
      "metadata": {},
      "outputs": [],
      "source": [
        "def createModelYuan():\n",
        "    model = Sequential()\n",
        "    model.add(InputLayer(input_shape=(256,256,1)))\n",
        "    #model.add(tf.keras.layers.experimental.preprocessing.Rescaling(1./255))\n",
        "   \n",
        "    model.add(Conv2D(64, kernel_size = (3,3),strides=(1,1), padding='same',activation = 'relu'))\n",
        "    model.add(Conv2D(64, kernel_size = (3,3),strides=(1,1), padding='same',activation = 'relu'))\n",
        "    model.add(MaxPooling2D(pool_size = (2,2)))\n",
        "\n",
        "    model.add(Conv2D(128, kernel_size = (3,3),strides=(1,1), padding='same',activation = 'relu'))\n",
        "    model.add(Conv2D(128, kernel_size = (3,3),strides=(1,1), padding='same',activation = 'relu'))\n",
        "    model.add(MaxPooling2D(pool_size = (2,2)))\n",
        "    \n",
        "\n",
        "    model.add(Conv2D(256, kernel_size = (3,3),strides=(1,1), padding='same',activation = 'relu'))\n",
        "    model.add(Conv2D(256, kernel_size = (3,3), strides=(1,1),padding='same',activation = 'relu'))\n",
        "    model.add(Conv2D(256, kernel_size = (3,3), strides=(1,1),padding='same',activation = 'relu'))\n",
        "    model.add(MaxPooling2D(pool_size = (2,2)))\n",
        "\n",
        "\n",
        "    model.add(Conv2D(512, kernel_size = (3,3), strides=(1,1),padding='same',activation = 'relu'))\n",
        "    model.add(Conv2D(512, kernel_size = (3,3), strides=(1,1),padding='same',activation = 'relu'))\n",
        "    model.add(Conv2D(512, kernel_size = (3,3), strides=(1,1),padding='same',activation = 'relu'))\n",
        "    model.add(MaxPooling2D(pool_size = (2,2)))\n",
        "\n",
        "    model.add(Conv2D(512, kernel_size = (3,3), strides=(1,1),padding='same',activation = 'relu'))\n",
        "    model.add(Conv2D(512, kernel_size = (3,3), strides=(1,1),padding='same',activation = 'relu'))\n",
        "    model.add(Conv2D(512, kernel_size = (3,3), strides=(1,1),padding='same',activation = 'relu'))\n",
        "    model.add(MaxPooling2D(pool_size = (2,2)))\n",
        "\n",
        "\n",
        "    model.add(Flatten())\n",
        "    model.add(Dense(1024, activation='relu'))\n",
        "    model.add(Dense(9, activation = 'softmax', name = 'Output'))\n",
        "    return model\n"
      ]
    },
    {
      "cell_type": "code",
      "execution_count": 4,
      "metadata": {
        "id": "rbrJYUhSEu_z"
      },
      "outputs": [
        {
          "name": "stdout",
          "output_type": "stream",
          "text": [
            "Model: \"sequential\"\n",
            "_________________________________________________________________\n",
            "Layer (type)                 Output Shape              Param #   \n",
            "=================================================================\n",
            "conv2d (Conv2D)              (None, 256, 256, 64)      640       \n",
            "_________________________________________________________________\n",
            "conv2d_1 (Conv2D)            (None, 256, 256, 64)      36928     \n",
            "_________________________________________________________________\n",
            "max_pooling2d (MaxPooling2D) (None, 128, 128, 64)      0         \n",
            "_________________________________________________________________\n",
            "conv2d_2 (Conv2D)            (None, 128, 128, 128)     73856     \n",
            "_________________________________________________________________\n",
            "conv2d_3 (Conv2D)            (None, 128, 128, 128)     147584    \n",
            "_________________________________________________________________\n",
            "max_pooling2d_1 (MaxPooling2 (None, 64, 64, 128)       0         \n",
            "_________________________________________________________________\n",
            "conv2d_4 (Conv2D)            (None, 64, 64, 256)       295168    \n",
            "_________________________________________________________________\n",
            "conv2d_5 (Conv2D)            (None, 64, 64, 256)       590080    \n",
            "_________________________________________________________________\n",
            "conv2d_6 (Conv2D)            (None, 64, 64, 256)       590080    \n",
            "_________________________________________________________________\n",
            "max_pooling2d_2 (MaxPooling2 (None, 32, 32, 256)       0         \n",
            "_________________________________________________________________\n",
            "conv2d_7 (Conv2D)            (None, 32, 32, 512)       1180160   \n",
            "_________________________________________________________________\n",
            "conv2d_8 (Conv2D)            (None, 32, 32, 512)       2359808   \n",
            "_________________________________________________________________\n",
            "conv2d_9 (Conv2D)            (None, 32, 32, 512)       2359808   \n",
            "_________________________________________________________________\n",
            "max_pooling2d_3 (MaxPooling2 (None, 16, 16, 512)       0         \n",
            "_________________________________________________________________\n",
            "conv2d_10 (Conv2D)           (None, 16, 16, 512)       2359808   \n",
            "_________________________________________________________________\n",
            "conv2d_11 (Conv2D)           (None, 16, 16, 512)       2359808   \n",
            "_________________________________________________________________\n",
            "conv2d_12 (Conv2D)           (None, 16, 16, 512)       2359808   \n",
            "_________________________________________________________________\n",
            "max_pooling2d_4 (MaxPooling2 (None, 8, 8, 512)         0         \n",
            "_________________________________________________________________\n",
            "flatten (Flatten)            (None, 32768)             0         \n",
            "_________________________________________________________________\n",
            "dense (Dense)                (None, 1024)              33555456  \n",
            "_________________________________________________________________\n",
            "Output (Dense)               (None, 9)                 9225      \n",
            "=================================================================\n",
            "Total params: 48,278,217\n",
            "Trainable params: 48,278,217\n",
            "Non-trainable params: 0\n",
            "_________________________________________________________________\n"
          ]
        }
      ],
      "source": [
        "\n",
        "model=createModelYuan()\n",
        "model.summary()"
      ]
    },
    {
      "cell_type": "markdown",
      "metadata": {
        "id": "pYUxWKQr6Kjl"
      },
      "source": [
        "## Optimization\n",
        "\n",
        "Keras can use many optimization method. In this notebook we use the __Adam__ method which can be described loosely as __adaptive__ gradient descent.\n",
        "\n",
        "Also since the labels are __NOT__ in one_hot_encoding we use the \"Sparse\" version of the crossentropy loss: __SparseCategoricalCrossentropy__. Finally, if we don't specify from_logits=False then the loss function would compute softwmax before computing the loss. Since we are computing softwmax in our model already we turn this step off by specifying from_logits=False"
      ]
    },
    {
      "cell_type": "code",
      "execution_count": 5,
      "metadata": {
        "id": "9DbRaKJKFvug"
      },
      "outputs": [
        {
          "name": "stdout",
          "output_type": "stream",
          "text": [
            "Epoch 1/3\n",
            "250/250 [==============================] - 182s 668ms/step - loss: 13.3770 - accuracy: 0.3831\n",
            "Epoch 2/3\n",
            "250/250 [==============================] - 182s 729ms/step - loss: 0.5365 - accuracy: 0.8546\n",
            "Epoch 3/3\n",
            "250/250 [==============================] - 201s 802ms/step - loss: 0.2900 - accuracy: 0.9188\n"
          ]
        }
      ],
      "source": [
        "# if we don't use softmax in the last layer, i.e. if the output of the\r\n",
        "# model is NOT probabilities then use from_logits=True\r\n",
        "\r\n",
        "filepath=\"checkpoints/cp-{epoch}.ckpt\"\r\n",
        "cb=tf.keras.callbacks.ModelCheckpoint(filepath,save_weights_only=True,save_freq='epoch',verbose=0)\r\n",
        "model.compile(optimizer=tf.keras.optimizers.Adam(),\r\n",
        "              loss=tf.keras.losses.SparseCategoricalCrossentropy(from_logits=False),\r\n",
        "              metrics=['accuracy'])\r\n",
        "\r\n",
        "#history = model.fit(img_train,label_train, batch_size=128,epochs=10, \r\n",
        "#                    validation_data=(img_test, label_test))\r\n",
        "#history=model.fit(train_dataset,batch_size=batch_size,epochs=3)\r\n",
        "#model.load_weights(\"weights-8000.h5\")\r\n",
        "history=model.fit(dataset,callbacks=[cb],epochs=3)\r\n"
      ]
    },
    {
      "cell_type": "code",
      "execution_count": 15,
      "metadata": {},
      "outputs": [
        {
          "data": {
            "text/plain": [
              "<tensorflow.python.training.tracking.util.CheckpointLoadStatus at 0x27146a66610>"
            ]
          },
          "execution_count": 15,
          "metadata": {},
          "output_type": "execute_result"
        }
      ],
      "source": [
        "#model.save_weights(\"weights-8000.h5\")\r\n",
        "latest = tf.train.latest_checkpoint(\"checkpoints\")\r\n",
        "\r\n",
        "model.load_weights(latest)"
      ]
    },
    {
      "cell_type": "markdown",
      "metadata": {
        "id": "iLe-ndQpqbPj"
      },
      "source": [
        "### Testing the Accuracy"
      ]
    },
    {
      "cell_type": "code",
      "execution_count": 16,
      "metadata": {
        "id": "WuvWaksuYAKi",
        "tags": []
      },
      "outputs": [
        {
          "name": "stdout",
          "output_type": "stream",
          "text": [
            "28/28 [==============================] - 8s 267ms/step - loss: 0.2562 - accuracy: 0.9482\n"
          ]
        }
      ],
      "source": [
        "\n",
        "_,test_accuracy=model.evaluate(test_dataset)"
      ]
    },
    {
      "cell_type": "code",
      "execution_count": 13,
      "metadata": {
        "id": "s2PPy_mPPKPK"
      },
      "outputs": [
        {
          "name": "stdout",
          "output_type": "stream",
          "text": [
            "Epoch 1/3\n",
            "250/250 [==============================] - 168s 674ms/step - loss: 0.0886 - accuracy: 0.9724\n",
            "Epoch 2/3\n",
            "250/250 [==============================] - 189s 756ms/step - loss: 0.1086 - accuracy: 0.9695\n",
            "Epoch 3/3\n",
            "250/250 [==============================] - 207s 829ms/step - loss: 0.0844 - accuracy: 0.9735\n"
          ]
        }
      ],
      "source": [
        "history=model.fit(dataset,callbacks=[cb],epochs=3)\r\n"
      ]
    },
    {
      "cell_type": "code",
      "execution_count": null,
      "metadata": {},
      "outputs": [],
      "source": []
    }
  ],
  "metadata": {
    "colab": {
      "include_colab_link": true,
      "name": "malware.ipynb",
      "provenance": []
    },
    "interpreter": {
      "hash": "63fd5069d213b44bf678585dea6b12cceca9941eaf7f819626cde1f2670de90d"
    },
    "kernelspec": {
      "display_name": "Python 3.9.1 64-bit",
      "name": "python3"
    },
    "language_info": {
      "codemirror_mode": {
        "name": "ipython",
        "version": 3
      },
      "file_extension": ".py",
      "mimetype": "text/x-python",
      "name": "python",
      "nbconvert_exporter": "python",
      "pygments_lexer": "ipython3",
      "version": "3.9.1"
    },
    "metadata": {
      "interpreter": {
        "hash": "63fd5069d213b44bf678585dea6b12cceca9941eaf7f819626cde1f2670de90d"
      }
    }
  },
  "nbformat": 4,
  "nbformat_minor": 0
}
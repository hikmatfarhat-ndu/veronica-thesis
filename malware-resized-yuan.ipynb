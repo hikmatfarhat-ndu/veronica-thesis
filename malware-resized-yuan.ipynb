{
  "cells": [
    {
      "cell_type": "markdown",
      "source": [
        "<a href=\"https://colab.research.google.com/github/hikmatfarhat-ndu/veronica-thesis/blob/master/malware.ipynb\" target=\"_parent\"><img src=\"https://colab.research.google.com/assets/colab-badge.svg\" alt=\"Open In Colab\"/></a>"
      ],
      "metadata": {
        "colab_type": "text",
        "id": "view-in-github"
      }
    },
    {
      "cell_type": "markdown",
      "source": [
        "### Packages"
      ],
      "metadata": {
        "id": "CAWSu-88vYRO"
      }
    },
    {
      "cell_type": "code",
      "execution_count": 1,
      "source": [
        "import tensorflow as tf \r\n",
        "import numpy as np \r\n",
        "import matplotlib.pyplot as plt\r\n",
        "from tensorflow.keras import models,layers\r\n",
        "from tensorflow.keras.utils import Sequence\r\n",
        "#from tensorflow.python.keras.utils import data_utils\r\n",
        "import math\r\n",
        "import os\r\n",
        "import pandas\r\n",
        "from PIL import Image\r\n",
        "from tensorflow.keras.models import Sequential\r\n",
        "from tensorflow.keras.layers import Dense,Conv3D,Conv2D,InputLayer,MaxPooling3D,Dropout,Flatten,MaxPooling2D,BatchNormalization,LayerNormalization\r\n"
      ],
      "outputs": [
        {
          "output_type": "stream",
          "name": "stdout",
          "text": [
            "INFO:tensorflow:Enabling eager execution\n",
            "INFO:tensorflow:Enabling v2 tensorshape\n",
            "INFO:tensorflow:Enabling resource variables\n",
            "INFO:tensorflow:Enabling tensor equality\n",
            "INFO:tensorflow:Enabling control flow v2\n"
          ]
        }
      ],
      "metadata": {
        "id": "veLEHh46PKO_"
      }
    },
    {
      "cell_type": "markdown",
      "source": [
        "## Read the data from directory\r\n",
        "\r\n",
        "The data are the original code converted to images and then resized to 256x256.\r\n",
        "There are different sets\r\n",
        "1. Containing the first 2000 images\r\n",
        "1. Containing the first 4000 images\r\n",
        "1. Containing the first 6000 images\r\n",
        "1. Containing the first 80000 images\r\n",
        "\r\n",
        "The test images are always the same 868 images which are different from all the above sets."
      ],
      "metadata": {}
    },
    {
      "cell_type": "code",
      "execution_count": 2,
      "source": [
        "image_size=(256,256)\r\n",
        "dir=\"data/resized/\"\r\n",
        "dataset=tf.keras.preprocessing.image_dataset_from_directory(dir+\"train\",batch_size=32,image_size=image_size,\r\n",
        "                                                            shuffle=True,color_mode=\"rgb\")\r\n",
        "test_dataset=tf.keras.preprocessing.image_dataset_from_directory(dir+\"test\",batch_size=32,image_size=image_size,\r\n",
        "                                                            shuffle=False,color_mode=\"rgb\")"
      ],
      "outputs": [
        {
          "output_type": "stream",
          "name": "stdout",
          "text": [
            "Found 9000 files belonging to 9 classes.\n",
            "Found 1868 files belonging to 9 classes.\n"
          ]
        }
      ],
      "metadata": {}
    },
    {
      "cell_type": "markdown",
      "source": [
        "## Build the model"
      ],
      "metadata": {}
    },
    {
      "cell_type": "code",
      "execution_count": 3,
      "source": [
        "def createModelYuan():\r\n",
        "    \r\n",
        "    model = Sequential()\r\n",
        "    model.add(InputLayer(input_shape=(256,256,3)))\r\n",
        "    #model.add(tf.keras.layers.experimental.preprocessing.Rescaling(1./255))\r\n",
        "   \r\n",
        "    model.add(Conv2D(64, kernel_size = (3,3),strides=(1,1), padding='same',activation = 'relu'))\r\n",
        "    model.add(Conv2D(64, kernel_size = (3,3),strides=(1,1), padding='same',activation = 'relu'))\r\n",
        "    model.add(MaxPooling2D(pool_size = (2,2)))\r\n",
        "\r\n",
        "    model.add(Conv2D(128, kernel_size = (3,3),strides=(1,1), padding='same',activation = 'relu'))\r\n",
        "    model.add(Conv2D(128, kernel_size = (3,3),strides=(1,1), padding='same',activation = 'relu'))\r\n",
        "    model.add(MaxPooling2D(pool_size = (2,2)))\r\n",
        "    \r\n",
        "\r\n",
        "    model.add(Conv2D(256, kernel_size = (3,3),strides=(1,1), padding='same',activation = 'relu'))\r\n",
        "    model.add(Conv2D(256, kernel_size = (3,3), strides=(1,1),padding='same',activation = 'relu'))\r\n",
        "    model.add(Conv2D(256, kernel_size = (3,3), strides=(1,1),padding='same',activation = 'relu'))\r\n",
        "    model.add(MaxPooling2D(pool_size = (2,2)))\r\n",
        "\r\n",
        "\r\n",
        "    model.add(Conv2D(512, kernel_size = (3,3), strides=(1,1),padding='same',activation = 'relu'))\r\n",
        "    model.add(Conv2D(512, kernel_size = (3,3), strides=(1,1),padding='same',activation = 'relu'))\r\n",
        "    model.add(Conv2D(512, kernel_size = (3,3), strides=(1,1),padding='same',activation = 'relu'))\r\n",
        "    model.add(MaxPooling2D(pool_size = (2,2)))\r\n",
        "\r\n",
        "    model.add(Conv2D(512, kernel_size = (3,3), strides=(1,1),padding='same',activation = 'relu'))\r\n",
        "    model.add(Conv2D(512, kernel_size = (3,3), strides=(1,1),padding='same',activation = 'relu'))\r\n",
        "    model.add(Conv2D(512, kernel_size = (3,3), strides=(1,1),padding='same',activation = 'relu'))\r\n",
        "    model.add(MaxPooling2D(pool_size = (2,2)))\r\n",
        "\r\n",
        "\r\n",
        "    model.add(Flatten())\r\n",
        "    model.add(Dense(1024, activation='relu'))\r\n",
        "    model.add(Dense(9, activation = 'softmax', name = 'Output'))\r\n",
        "    return model\r\n"
      ],
      "outputs": [],
      "metadata": {}
    },
    {
      "cell_type": "markdown",
      "source": [
        "### Instantiate the model"
      ],
      "metadata": {}
    },
    {
      "cell_type": "code",
      "execution_count": 4,
      "source": [
        "\r\n",
        "model=createModelYuan()\r\n",
        "model.summary()"
      ],
      "outputs": [
        {
          "output_type": "stream",
          "name": "stdout",
          "text": [
            "Model: \"sequential\"\n",
            "_________________________________________________________________\n",
            "Layer (type)                 Output Shape              Param #   \n",
            "=================================================================\n",
            "conv2d (Conv2D)              (None, 256, 256, 64)      1792      \n",
            "_________________________________________________________________\n",
            "conv2d_1 (Conv2D)            (None, 256, 256, 64)      36928     \n",
            "_________________________________________________________________\n",
            "max_pooling2d (MaxPooling2D) (None, 128, 128, 64)      0         \n",
            "_________________________________________________________________\n",
            "conv2d_2 (Conv2D)            (None, 128, 128, 128)     73856     \n",
            "_________________________________________________________________\n",
            "conv2d_3 (Conv2D)            (None, 128, 128, 128)     147584    \n",
            "_________________________________________________________________\n",
            "max_pooling2d_1 (MaxPooling2 (None, 64, 64, 128)       0         \n",
            "_________________________________________________________________\n",
            "conv2d_4 (Conv2D)            (None, 64, 64, 256)       295168    \n",
            "_________________________________________________________________\n",
            "conv2d_5 (Conv2D)            (None, 64, 64, 256)       590080    \n",
            "_________________________________________________________________\n",
            "conv2d_6 (Conv2D)            (None, 64, 64, 256)       590080    \n",
            "_________________________________________________________________\n",
            "max_pooling2d_2 (MaxPooling2 (None, 32, 32, 256)       0         \n",
            "_________________________________________________________________\n",
            "conv2d_7 (Conv2D)            (None, 32, 32, 512)       1180160   \n",
            "_________________________________________________________________\n",
            "conv2d_8 (Conv2D)            (None, 32, 32, 512)       2359808   \n",
            "_________________________________________________________________\n",
            "conv2d_9 (Conv2D)            (None, 32, 32, 512)       2359808   \n",
            "_________________________________________________________________\n",
            "max_pooling2d_3 (MaxPooling2 (None, 16, 16, 512)       0         \n",
            "_________________________________________________________________\n",
            "conv2d_10 (Conv2D)           (None, 16, 16, 512)       2359808   \n",
            "_________________________________________________________________\n",
            "conv2d_11 (Conv2D)           (None, 16, 16, 512)       2359808   \n",
            "_________________________________________________________________\n",
            "conv2d_12 (Conv2D)           (None, 16, 16, 512)       2359808   \n",
            "_________________________________________________________________\n",
            "max_pooling2d_4 (MaxPooling2 (None, 8, 8, 512)         0         \n",
            "_________________________________________________________________\n",
            "flatten (Flatten)            (None, 32768)             0         \n",
            "_________________________________________________________________\n",
            "dense (Dense)                (None, 1024)              33555456  \n",
            "_________________________________________________________________\n",
            "Output (Dense)               (None, 9)                 9225      \n",
            "=================================================================\n",
            "Total params: 48,279,369\n",
            "Trainable params: 48,279,369\n",
            "Non-trainable params: 0\n",
            "_________________________________________________________________\n"
          ]
        }
      ],
      "metadata": {
        "id": "rbrJYUhSEu_z"
      }
    },
    {
      "cell_type": "markdown",
      "source": [
        "## Optimization\n",
        "\n",
        "Keras can use many optimization method. In this notebook we use the __Adam__ method which can be described loosely as __adaptive__ gradient descent.\n",
        "\n",
        "Also since the labels are __NOT__ in one_hot_encoding we use the \"Sparse\" version of the crossentropy loss: __SparseCategoricalCrossentropy__. Finally, if we don't specify from_logits=False then the loss function would compute softwmax before computing the loss. Since we are computing softwmax in our model already we turn this step off by specifying from_logits=False"
      ],
      "metadata": {
        "id": "pYUxWKQr6Kjl"
      }
    },
    {
      "cell_type": "code",
      "execution_count": 6,
      "source": [
        "# if we don't use softmax in the last layer, i.e. if the output of the\r\n",
        "# model is NOT probabilities then use from_logits=True\r\n",
        "\r\n",
        "# where the weights are saved periodically \r\n",
        "filepath=\"checkpoints/cp-{epoch}.ckpt\"\r\n",
        "cb=tf.keras.callbacks.ModelCheckpoint(filepath,save_weights_only=True,save_freq='epoch',verbose=0)\r\n",
        "model.compile(optimizer=tf.keras.optimizers.Adam(),\r\n",
        "              loss=tf.keras.losses.SparseCategoricalCrossentropy(from_logits=False),\r\n",
        "              metrics=['accuracy'])\r\n",
        "\r\n",
        "latest = tf.train.latest_checkpoint(\"checkpoints\")\r\n",
        "#model.load_weights(latest)\r\n"
      ],
      "outputs": [],
      "metadata": {
        "id": "9DbRaKJKFvug"
      }
    },
    {
      "cell_type": "code",
      "execution_count": null,
      "source": [
        "history=model.fit(dataset,callbacks=[cb],epochs=10)\r\n"
      ],
      "outputs": [],
      "metadata": {}
    },
    {
      "cell_type": "markdown",
      "source": [
        "### Testing the Accuracy"
      ],
      "metadata": {
        "id": "iLe-ndQpqbPj"
      }
    },
    {
      "cell_type": "code",
      "execution_count": null,
      "source": [
        "\r\n",
        "_,test_accuracy=model.evaluate(test_dataset)"
      ],
      "outputs": [
        {
          "output_type": "stream",
          "name": "stdout",
          "text": [
            "59/59 [==============================] - 46s 426ms/step - loss: 0.0996 - accuracy: 0.9797\n"
          ]
        }
      ],
      "metadata": {
        "id": "WuvWaksuYAKi",
        "tags": []
      }
    },
    {
      "cell_type": "code",
      "execution_count": null,
      "source": [
        "probabilities=model.predict(test_dataset)\r\n",
        "predictions=np.argmax(probabilities,axis=1)\r\n"
      ],
      "outputs": [],
      "metadata": {}
    },
    {
      "cell_type": "code",
      "execution_count": null,
      "source": [
        "y = np.concatenate([y for x, y in test_dataset], axis=0)\r\n"
      ],
      "outputs": [],
      "metadata": {}
    },
    {
      "cell_type": "code",
      "execution_count": null,
      "source": [
        "m=tf.math.confusion_matrix(y,predictions)"
      ],
      "outputs": [],
      "metadata": {}
    },
    {
      "cell_type": "code",
      "execution_count": null,
      "source": [
        "m"
      ],
      "outputs": [
        {
          "output_type": "execute_result",
          "data": {
            "text/plain": [
              "<tf.Tensor: shape=(9, 9), dtype=int32, numpy=\n",
              "array([[140,   0,   0,   0,   1,   1,   0,   0,   1],\n",
              "       [  0,  88,   2,   1,   1,   1,   0,   0,   0],\n",
              "       [  0,   0, 406,   0,   0,   0,   0,   0,   0],\n",
              "       [  0,   0,   0, 473,   3,   1,   0,   1,   0],\n",
              "       [  0,   0,   2,   2, 214,  10,   0,   0,   2],\n",
              "       [  0,   0,   0,   3,   2, 244,   0,   1,   1],\n",
              "       [  0,   0,   0,   0,   0,   1,   6,   0,   0],\n",
              "       [  0,   1,   0,   3,   2,   8,   0, 124,   0],\n",
              "       [  0,   0,   0,   1,   1,   1,   0,   0, 119]])>"
            ]
          },
          "metadata": {},
          "execution_count": 12
        }
      ],
      "metadata": {}
    },
    {
      "cell_type": "code",
      "execution_count": null,
      "source": [
        "dataset.class_names"
      ],
      "outputs": [
        {
          "output_type": "execute_result",
          "data": {
            "text/plain": [
              "['Gatak',\n",
              " 'Kelihos_ver1',\n",
              " 'Kelihos_ver3',\n",
              " 'Lollipop',\n",
              " 'Obfuscator',\n",
              " 'Ramnit',\n",
              " 'Simda',\n",
              " 'Tracur',\n",
              " 'Vundo']"
            ]
          },
          "metadata": {},
          "execution_count": 19
        }
      ],
      "metadata": {}
    },
    {
      "cell_type": "code",
      "execution_count": null,
      "source": [
        "import seaborn as sb\r\n",
        "s=np.sum(m,axis=1)\r\n",
        "s=s.reshape(9,1)\r\n",
        "a=m/s\r\n",
        "sum(a[2])"
      ],
      "outputs": [
        {
          "output_type": "execute_result",
          "data": {
            "text/plain": [
              "<tf.Tensor: shape=(), dtype=float64, numpy=1.0>"
            ]
          },
          "metadata": {},
          "execution_count": 70
        }
      ],
      "metadata": {}
    },
    {
      "cell_type": "code",
      "execution_count": null,
      "source": [
        "m/sum(m)"
      ],
      "outputs": [
        {
          "output_type": "execute_result",
          "data": {
            "text/plain": [
              "<tf.Tensor: shape=(9, 9), dtype=float64, numpy=\n",
              "array([[1.        , 0.        , 0.        , 0.        , 0.00446429,\n",
              "        0.00374532, 0.        , 0.        , 0.00813008],\n",
              "       [0.        , 0.98876404, 0.00487805, 0.00207039, 0.00446429,\n",
              "        0.00374532, 0.        , 0.        , 0.        ],\n",
              "       [0.        , 0.        , 0.9902439 , 0.        , 0.        ,\n",
              "        0.        , 0.        , 0.        , 0.        ],\n",
              "       [0.        , 0.        , 0.        , 0.97929607, 0.01339286,\n",
              "        0.00374532, 0.        , 0.00793651, 0.        ],\n",
              "       [0.        , 0.        , 0.00487805, 0.00414079, 0.95535714,\n",
              "        0.03745318, 0.        , 0.        , 0.01626016],\n",
              "       [0.        , 0.        , 0.        , 0.00621118, 0.00892857,\n",
              "        0.91385768, 0.        , 0.00793651, 0.00813008],\n",
              "       [0.        , 0.        , 0.        , 0.        , 0.        ,\n",
              "        0.00374532, 1.        , 0.        , 0.        ],\n",
              "       [0.        , 0.01123596, 0.        , 0.00621118, 0.00892857,\n",
              "        0.02996255, 0.        , 0.98412698, 0.        ],\n",
              "       [0.        , 0.        , 0.        , 0.00207039, 0.00446429,\n",
              "        0.00374532, 0.        , 0.        , 0.96747967]])>"
            ]
          },
          "metadata": {},
          "execution_count": 12
        }
      ],
      "metadata": {}
    },
    {
      "cell_type": "code",
      "execution_count": null,
      "source": [
        "plt.figure(figsize=(10, 7))\r\n",
        "sb.heatmap(m/np.sum(m,axis=1).reshape(9,1), xticklabels=dataset.class_names, yticklabels=dataset.class_names, \r\n",
        "            annot=True,fmt=\".2f\")\r\n",
        "plt.xlabel('Prediction')\r\n",
        "plt.ylabel('Label')\r\n",
        "plt.show()"
      ],
      "outputs": [
        {
          "output_type": "display_data",
          "data": {
            "text/plain": [
              "<Figure size 720x504 with 2 Axes>"
            ],
            "image/png": "[encoded data removed]"
          },
          "metadata": {
            "needs_background": "light"
          }
        }
      ],
      "metadata": {}
    },
    {
      "cell_type": "code",
      "execution_count": null,
      "source": [],
      "outputs": [],
      "metadata": {}
    }
  ],
  "metadata": {
    "colab": {
      "include_colab_link": true,
      "name": "malware.ipynb",
      "provenance": []
    },
    "interpreter": {
      "hash": "63fd5069d213b44bf678585dea6b12cceca9941eaf7f819626cde1f2670de90d"
    },
    "kernelspec": {
      "name": "python3",
      "display_name": "Python 3.9.1 64-bit"
    },
    "language_info": {
      "codemirror_mode": {
        "name": "ipython",
        "version": 3
      },
      "file_extension": ".py",
      "mimetype": "text/x-python",
      "name": "python",
      "nbconvert_exporter": "python",
      "pygments_lexer": "ipython3",
      "version": "3.9.1"
    },
    "metadata": {
      "interpreter": {
        "hash": "63fd5069d213b44bf678585dea6b12cceca9941eaf7f819626cde1f2670de90d"
      }
    }
  },
  "nbformat": 4,
  "nbformat_minor": 2
}
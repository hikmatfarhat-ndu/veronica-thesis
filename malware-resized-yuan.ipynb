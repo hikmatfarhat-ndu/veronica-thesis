{
  "cells": [
    {
      "cell_type": "markdown",
      "metadata": {
        "colab_type": "text",
        "id": "view-in-github"
      },
      "source": [
        "<a href=\"https://colab.research.google.com/github/hikmatfarhat-ndu/veronica-thesis/blob/master/malware.ipynb\" target=\"_parent\"><img src=\"https://colab.research.google.com/assets/colab-badge.svg\" alt=\"Open In Colab\"/></a>"
      ]
    },
    {
      "cell_type": "markdown",
      "metadata": {
        "id": "CAWSu-88vYRO"
      },
      "source": [
        "### Packages"
      ]
    },
    {
      "cell_type": "code",
      "execution_count": 1,
      "metadata": {
        "id": "veLEHh46PKO_"
      },
      "outputs": [
        {
          "name": "stdout",
          "output_type": "stream",
          "text": [
            "INFO:tensorflow:Enabling eager execution\n",
            "INFO:tensorflow:Enabling v2 tensorshape\n",
            "INFO:tensorflow:Enabling resource variables\n",
            "INFO:tensorflow:Enabling tensor equality\n",
            "INFO:tensorflow:Enabling control flow v2\n"
          ]
        }
      ],
      "source": [
        "import tensorflow as tf \n",
        "import numpy as np \n",
        "import matplotlib.pyplot as plt\n",
        "from tensorflow.keras import models,layers\n",
        "from tensorflow.keras.utils import Sequence\n",
        "#from tensorflow.python.keras.utils import data_utils\n",
        "import math\n",
        "import os\n",
        "import pandas\n",
        "from PIL import Image\n",
        "from tensorflow.keras.models import Sequential\n",
        "from tensorflow.keras.layers import Dense,Conv3D,Conv2D,InputLayer,MaxPooling3D,Dropout,Flatten,MaxPooling2D,BatchNormalization,LayerNormalization\n"
      ]
    },
    {
      "cell_type": "markdown",
      "metadata": {},
      "source": [
        "## Read the data from directory\r\n",
        "\r\n",
        "The data are the original code converted to images and then resized to 256x256.\r\n",
        "There are different sets\r\n",
        "1. Containing the first 2000 images\r\n",
        "1. Containing the first 4000 images\r\n",
        "1. Containing the first 6000 images\r\n",
        "1. Containing the first 80000 images\r\n",
        "\r\n",
        "The test images are always the same 868 images which are different from all the above sets."
      ]
    },
    {
      "cell_type": "code",
      "execution_count": 2,
      "metadata": {},
      "outputs": [
        {
          "name": "stdout",
          "output_type": "stream",
          "text": [
            "Found 9000 files belonging to 9 classes.\n",
            "Found 1868 files belonging to 9 classes.\n"
          ]
        }
      ],
      "source": [
        "image_size=(256,256)\r\n",
        "dir=\"data/resized/\"\r\n",
        "dataset=tf.keras.preprocessing.image_dataset_from_directory(dir+\"train\",batch_size=32,image_size=image_size,\r\n",
        "                                                            shuffle=True,color_mode=\"grayscale\")\r\n",
        "test_dataset=tf.keras.preprocessing.image_dataset_from_directory(dir+\"test\",batch_size=32,image_size=image_size,\r\n",
        "                                                            shuffle=False,color_mode=\"grayscale\")"
      ]
    },
    {
      "cell_type": "markdown",
      "metadata": {},
      "source": [
        "## Build the model"
      ]
    },
    {
      "cell_type": "code",
      "execution_count": 3,
      "metadata": {},
      "outputs": [],
      "source": [
        "def createModelYuan():\r\n",
        "    \r\n",
        "    model = Sequential()\r\n",
        "    model.add(InputLayer(input_shape=(256,256,1)))\r\n",
        "    #model.add(tf.keras.layers.experimental.preprocessing.Rescaling(1./255))\r\n",
        "   \r\n",
        "    model.add(Conv2D(64, kernel_size = (3,3),strides=(1,1), padding='same',activation = 'relu'))\r\n",
        "    model.add(Conv2D(64, kernel_size = (3,3),strides=(1,1), padding='same',activation = 'relu'))\r\n",
        "    model.add(MaxPooling2D(pool_size = (2,2)))\r\n",
        "\r\n",
        "    model.add(Conv2D(128, kernel_size = (3,3),strides=(1,1), padding='same',activation = 'relu'))\r\n",
        "    model.add(Conv2D(128, kernel_size = (3,3),strides=(1,1), padding='same',activation = 'relu'))\r\n",
        "    model.add(MaxPooling2D(pool_size = (2,2)))\r\n",
        "    \r\n",
        "\r\n",
        "    model.add(Conv2D(256, kernel_size = (3,3),strides=(1,1), padding='same',activation = 'relu'))\r\n",
        "    model.add(Conv2D(256, kernel_size = (3,3), strides=(1,1),padding='same',activation = 'relu'))\r\n",
        "    model.add(Conv2D(256, kernel_size = (3,3), strides=(1,1),padding='same',activation = 'relu'))\r\n",
        "    model.add(MaxPooling2D(pool_size = (2,2)))\r\n",
        "\r\n",
        "\r\n",
        "    model.add(Conv2D(512, kernel_size = (3,3), strides=(1,1),padding='same',activation = 'relu'))\r\n",
        "    model.add(Conv2D(512, kernel_size = (3,3), strides=(1,1),padding='same',activation = 'relu'))\r\n",
        "    model.add(Conv2D(512, kernel_size = (3,3), strides=(1,1),padding='same',activation = 'relu'))\r\n",
        "    model.add(MaxPooling2D(pool_size = (2,2)))\r\n",
        "\r\n",
        "    model.add(Conv2D(512, kernel_size = (3,3), strides=(1,1),padding='same',activation = 'relu'))\r\n",
        "    model.add(Conv2D(512, kernel_size = (3,3), strides=(1,1),padding='same',activation = 'relu'))\r\n",
        "    model.add(Conv2D(512, kernel_size = (3,3), strides=(1,1),padding='same',activation = 'relu'))\r\n",
        "    model.add(MaxPooling2D(pool_size = (2,2)))\r\n",
        "\r\n",
        "\r\n",
        "    model.add(Flatten())\r\n",
        "    model.add(Dense(1024, activation='relu'))\r\n",
        "    model.add(Dense(9, activation = 'softmax', name = 'Output'))\r\n",
        "    return model\r\n"
      ]
    },
    {
      "cell_type": "markdown",
      "metadata": {},
      "source": [
        "### Instantiate the model"
      ]
    },
    {
      "cell_type": "code",
      "execution_count": 4,
      "metadata": {
        "id": "rbrJYUhSEu_z"
      },
      "outputs": [
        {
          "name": "stdout",
          "output_type": "stream",
          "text": [
            "Model: \"sequential\"\n",
            "_________________________________________________________________\n",
            "Layer (type)                 Output Shape              Param #   \n",
            "=================================================================\n",
            "conv2d (Conv2D)              (None, 256, 256, 64)      640       \n",
            "_________________________________________________________________\n",
            "conv2d_1 (Conv2D)            (None, 256, 256, 64)      36928     \n",
            "_________________________________________________________________\n",
            "max_pooling2d (MaxPooling2D) (None, 128, 128, 64)      0         \n",
            "_________________________________________________________________\n",
            "conv2d_2 (Conv2D)            (None, 128, 128, 128)     73856     \n",
            "_________________________________________________________________\n",
            "conv2d_3 (Conv2D)            (None, 128, 128, 128)     147584    \n",
            "_________________________________________________________________\n",
            "max_pooling2d_1 (MaxPooling2 (None, 64, 64, 128)       0         \n",
            "_________________________________________________________________\n",
            "conv2d_4 (Conv2D)            (None, 64, 64, 256)       295168    \n",
            "_________________________________________________________________\n",
            "conv2d_5 (Conv2D)            (None, 64, 64, 256)       590080    \n",
            "_________________________________________________________________\n",
            "conv2d_6 (Conv2D)            (None, 64, 64, 256)       590080    \n",
            "_________________________________________________________________\n",
            "max_pooling2d_2 (MaxPooling2 (None, 32, 32, 256)       0         \n",
            "_________________________________________________________________\n",
            "conv2d_7 (Conv2D)            (None, 32, 32, 512)       1180160   \n",
            "_________________________________________________________________\n",
            "conv2d_8 (Conv2D)            (None, 32, 32, 512)       2359808   \n",
            "_________________________________________________________________\n",
            "conv2d_9 (Conv2D)            (None, 32, 32, 512)       2359808   \n",
            "_________________________________________________________________\n",
            "max_pooling2d_3 (MaxPooling2 (None, 16, 16, 512)       0         \n",
            "_________________________________________________________________\n",
            "conv2d_10 (Conv2D)           (None, 16, 16, 512)       2359808   \n",
            "_________________________________________________________________\n",
            "conv2d_11 (Conv2D)           (None, 16, 16, 512)       2359808   \n",
            "_________________________________________________________________\n",
            "conv2d_12 (Conv2D)           (None, 16, 16, 512)       2359808   \n",
            "_________________________________________________________________\n",
            "max_pooling2d_4 (MaxPooling2 (None, 8, 8, 512)         0         \n",
            "_________________________________________________________________\n",
            "flatten (Flatten)            (None, 32768)             0         \n",
            "_________________________________________________________________\n",
            "dense (Dense)                (None, 1024)              33555456  \n",
            "_________________________________________________________________\n",
            "Output (Dense)               (None, 9)                 9225      \n",
            "=================================================================\n",
            "Total params: 48,278,217\n",
            "Trainable params: 48,278,217\n",
            "Non-trainable params: 0\n",
            "_________________________________________________________________\n"
          ]
        }
      ],
      "source": [
        "\n",
        "model=createModelYuan()\n",
        "model.summary()"
      ]
    },
    {
      "cell_type": "markdown",
      "metadata": {
        "id": "pYUxWKQr6Kjl"
      },
      "source": [
        "## Optimization\n",
        "\n",
        "Keras can use many optimization method. In this notebook we use the __Adam__ method which can be described loosely as __adaptive__ gradient descent.\n",
        "\n",
        "Also since the labels are __NOT__ in one_hot_encoding we use the \"Sparse\" version of the crossentropy loss: __SparseCategoricalCrossentropy__. Finally, if we don't specify from_logits=False then the loss function would compute softwmax before computing the loss. Since we are computing softwmax in our model already we turn this step off by specifying from_logits=False"
      ]
    },
    {
      "cell_type": "code",
      "execution_count": 5,
      "metadata": {
        "id": "9DbRaKJKFvug"
      },
      "outputs": [
        {
          "name": "stdout",
          "output_type": "stream",
          "text": [
            "Epoch 1/10\n",
            "282/282 [==============================] - 273s 900ms/step - loss: 0.0692 - accuracy: 0.9819\n",
            "Epoch 2/10\n",
            "282/282 [==============================] - 1125s 4s/step - loss: 0.1886 - accuracy: 0.9711\n",
            "Epoch 3/10\n",
            "282/282 [==============================] - 211s 746ms/step - loss: 0.1682 - accuracy: 0.9510\n",
            "Epoch 4/10\n",
            "282/282 [==============================] - 221s 782ms/step - loss: 0.0400 - accuracy: 0.9855\n",
            "Epoch 5/10\n",
            "282/282 [==============================] - 223s 791ms/step - loss: 0.0227 - accuracy: 0.9926\n",
            "Epoch 6/10\n",
            "282/282 [==============================] - 223s 789ms/step - loss: 0.0226 - accuracy: 0.9928\n",
            "Epoch 7/10\n",
            "282/282 [==============================] - 222s 786ms/step - loss: 0.0330 - accuracy: 0.9906\n",
            "Epoch 8/10\n",
            "282/282 [==============================] - 222s 785ms/step - loss: 0.0321 - accuracy: 0.9911\n",
            "Epoch 9/10\n",
            "282/282 [==============================] - 225s 798ms/step - loss: 0.0218 - accuracy: 0.9927\n",
            "Epoch 10/10\n",
            "282/282 [==============================] - 228s 810ms/step - loss: 0.0996 - accuracy: 0.9734\n"
          ]
        }
      ],
      "source": [
        "# if we don't use softmax in the last layer, i.e. if the output of the\r\n",
        "# model is NOT probabilities then use from_logits=True\r\n",
        "\r\n",
        "# where the weights are saved periodically \r\n",
        "filepath=\"checkpoints/cp-{epoch}.ckpt\"\r\n",
        "cb=tf.keras.callbacks.ModelCheckpoint(filepath,save_weights_only=True,save_freq='epoch',verbose=0)\r\n",
        "model.compile(optimizer=tf.keras.optimizers.Adam(),\r\n",
        "              loss=tf.keras.losses.SparseCategoricalCrossentropy(from_logits=False),\r\n",
        "              metrics=['accuracy'])\r\n",
        "\r\n",
        "latest = tf.train.latest_checkpoint(\"checkpoints\")\r\n",
        "model.load_weights(latest)\r\n",
        "history=model.fit(dataset,callbacks=[cb],epochs=10)\r\n"
      ]
    },
    {
      "cell_type": "markdown",
      "metadata": {
        "id": "iLe-ndQpqbPj"
      },
      "source": [
        "### Testing the Accuracy"
      ]
    },
    {
      "cell_type": "code",
      "execution_count": 6,
      "metadata": {
        "id": "WuvWaksuYAKi",
        "tags": []
      },
      "outputs": [
        {
          "name": "stdout",
          "output_type": "stream",
          "text": [
            "59/59 [==============================] - 21s 353ms/step - loss: 0.1477 - accuracy: 0.9711\n"
          ]
        }
      ],
      "source": [
        "\n",
        "_,test_accuracy=model.evaluate(test_dataset)"
      ]
    },
    {
      "cell_type": "code",
      "execution_count": 7,
      "metadata": {},
      "outputs": [],
      "source": [
        "probabilities=model.predict(test_dataset)\r\n",
        "predictions=np.argmax(probabilities,axis=1)\r\n"
      ]
    },
    {
      "cell_type": "code",
      "execution_count": 8,
      "metadata": {},
      "outputs": [],
      "source": [
        "y = np.concatenate([y for x, y in test_dataset], axis=0)\r\n"
      ]
    },
    {
      "cell_type": "code",
      "execution_count": 9,
      "metadata": {},
      "outputs": [],
      "source": [
        "m=tf.math.confusion_matrix(y,predictions)"
      ]
    },
    {
      "cell_type": "code",
      "execution_count": null,
      "metadata": {},
      "outputs": [],
      "source": [
        "m"
      ]
    },
    {
      "cell_type": "code",
      "execution_count": 10,
      "metadata": {},
      "outputs": [
        {
          "ename": "TypeError",
          "evalue": "'axis' is an invalid keyword argument for sum()",
          "output_type": "error",
          "traceback": [
            "\u001b[1;31m---------------------------------------------------------------------------\u001b[0m",
            "\u001b[1;31mTypeError\u001b[0m                                 Traceback (most recent call last)",
            "\u001b[1;32m<ipython-input-10-726679a6f3ba>\u001b[0m in \u001b[0;36m<module>\u001b[1;34m\u001b[0m\n\u001b[0;32m      1\u001b[0m \u001b[1;32mimport\u001b[0m \u001b[0mseaborn\u001b[0m \u001b[1;32mas\u001b[0m \u001b[0msb\u001b[0m\u001b[1;33m\u001b[0m\u001b[1;33m\u001b[0m\u001b[0m\n\u001b[1;32m----> 2\u001b[1;33m \u001b[0msum\u001b[0m\u001b[1;33m(\u001b[0m\u001b[0mm\u001b[0m\u001b[1;33m,\u001b[0m\u001b[0maxis\u001b[0m\u001b[1;33m=\u001b[0m\u001b[1;36m0\u001b[0m\u001b[1;33m)\u001b[0m\u001b[1;33m\u001b[0m\u001b[1;33m\u001b[0m\u001b[0m\n\u001b[0m",
            "\u001b[1;31mTypeError\u001b[0m: 'axis' is an invalid keyword argument for sum()"
          ]
        }
      ],
      "source": [
        "import seaborn as sb\r\n",
        "sum(m)"
      ]
    },
    {
      "cell_type": "code",
      "execution_count": 12,
      "metadata": {},
      "outputs": [
        {
          "data": {
            "text/plain": [
              "<tf.Tensor: shape=(9, 9), dtype=float64, numpy=\n",
              "array([[1.        , 0.        , 0.        , 0.        , 0.00446429,\n",
              "        0.00374532, 0.        , 0.        , 0.00813008],\n",
              "       [0.        , 0.98876404, 0.00487805, 0.00207039, 0.00446429,\n",
              "        0.00374532, 0.        , 0.        , 0.        ],\n",
              "       [0.        , 0.        , 0.9902439 , 0.        , 0.        ,\n",
              "        0.        , 0.        , 0.        , 0.        ],\n",
              "       [0.        , 0.        , 0.        , 0.97929607, 0.01339286,\n",
              "        0.00374532, 0.        , 0.00793651, 0.        ],\n",
              "       [0.        , 0.        , 0.00487805, 0.00414079, 0.95535714,\n",
              "        0.03745318, 0.        , 0.        , 0.01626016],\n",
              "       [0.        , 0.        , 0.        , 0.00621118, 0.00892857,\n",
              "        0.91385768, 0.        , 0.00793651, 0.00813008],\n",
              "       [0.        , 0.        , 0.        , 0.        , 0.        ,\n",
              "        0.00374532, 1.        , 0.        , 0.        ],\n",
              "       [0.        , 0.01123596, 0.        , 0.00621118, 0.00892857,\n",
              "        0.02996255, 0.        , 0.98412698, 0.        ],\n",
              "       [0.        , 0.        , 0.        , 0.00207039, 0.00446429,\n",
              "        0.00374532, 0.        , 0.        , 0.96747967]])>"
            ]
          },
          "execution_count": 12,
          "metadata": {},
          "output_type": "execute_result"
        }
      ],
      "source": [
        "m/sum(m)"
      ]
    },
    {
      "cell_type": "code",
      "execution_count": 11,
      "metadata": {},
      "outputs": [
        {
          "data": {
            "image/png": "[encoded data removed]",
            "text/plain": [
              "<Figure size 720x504 with 2 Axes>"
            ]
          },
          "metadata": {
            "needs_background": "light"
          },
          "output_type": "display_data"
        }
      ],
      "source": [
        "plt.figure(figsize=(10, 7))\r\n",
        "sb.heatmap(m/sum(m), xticklabels=dataset.class_names, yticklabels=dataset.class_names, \r\n",
        "            annot=True, fmt='g')\r\n",
        "plt.xlabel('Prediction')\r\n",
        "plt.ylabel('Label')\r\n",
        "plt.show()"
      ]
    },
    {
      "cell_type": "code",
      "execution_count": null,
      "metadata": {},
      "outputs": [],
      "source": []
    }
  ],
  "metadata": {
    "colab": {
      "include_colab_link": true,
      "name": "malware.ipynb",
      "provenance": []
    },
    "interpreter": {
      "hash": "63fd5069d213b44bf678585dea6b12cceca9941eaf7f819626cde1f2670de90d"
    },
    "kernelspec": {
      "display_name": "Python 3.9.1 64-bit",
      "name": "python3"
    },
    "language_info": {
      "name": "python",
      "version": ""
    },
    "metadata": {
      "interpreter": {
        "hash": "63fd5069d213b44bf678585dea6b12cceca9941eaf7f819626cde1f2670de90d"
      }
    }
  },
  "nbformat": 4,
  "nbformat_minor": 0
}